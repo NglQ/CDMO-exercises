{
 "cells": [
  {
   "cell_type": "code",
   "id": "initial_id",
   "metadata": {
    "collapsed": true,
    "ExecuteTime": {
     "end_time": "2025-04-04T10:27:47.059864Z",
     "start_time": "2025-04-04T10:27:47.055126Z"
    }
   },
   "source": [
    "from z3 import *\n",
    "import itertools\n",
    "\n",
    "import time\n",
    "import os\n",
    "\n",
    "from sat_utils import plot_result, return_coods, optimize\n",
    "\n",
    "os.makedirs('outputs', exist_ok=True)"
   ],
   "outputs": [],
   "execution_count": 27
  },
  {
   "metadata": {
    "ExecuteTime": {
     "end_time": "2025-04-04T10:27:47.992928Z",
     "start_time": "2025-04-04T10:27:47.988891Z"
    }
   },
   "cell_type": "code",
   "source": [
    "def at_least_one(bool_vars):\n",
    "    return Or(bool_vars)\n",
    "\n",
    "def at_most_one(bool_vars):\n",
    "    return [Not(And(pair[0], pair[1])) for pair in itertools.combinations(bool_vars, 2)]"
   ],
   "id": "35387f132cab8e2a",
   "outputs": [],
   "execution_count": 28
  },
  {
   "metadata": {
    "ExecuteTime": {
     "end_time": "2025-04-04T10:35:35.243221Z",
     "start_time": "2025-04-04T10:35:35.232558Z"
    }
   },
   "cell_type": "code",
   "source": [
    "def base_model_order(s,rects,px,py,under,left,W,H):\n",
    "  #non overlapping condition\n",
    "  for (i,j) in itertools.combinations(range(len(rects)),2):\n",
    "    s.add(Or(left[i][j],left[j][i],under[i][j],under[j][i]))\n",
    "\n",
    "  #implicit domains\n",
    "  for r in range(len(rects)):\n",
    "    for xi in range(W-rects[r][0],W):\n",
    "      s.add(px[r][xi])\n",
    "    for yi in range(H-rects[r][1],H):\n",
    "      s.add(py[r][yi])\n",
    "  #order encoding\n",
    "  for r in range(len(rects)):\n",
    "    for e in range(W-1):\n",
    "      s.add(Or(Not(px[r][e]),px[r][e+1]))\n",
    "    for f in range(H-1):\n",
    "      s.add(Or(Not(py[r][f]),py[r][f+1]))\n",
    "\n",
    "\n",
    "\n",
    "  #meaning for left and under\n",
    "  for ri in range(len(rects)):\n",
    "    for rj in range(len(rects)):\n",
    "      if ri != rj :\n",
    "        #print((ri,rj))\n",
    "        s.add(Or(\n",
    "            Not(left[ri][rj]),\n",
    "            Not(px[rj][rects[ri][0]-1])\n",
    "        )) # left(ri,rj) -> xj > wi, lower bound for xj\n",
    "        for e in range(0,W-rects[ri][0]):\n",
    "          s.add(Or(\n",
    "              Not(left[ri][rj]),\n",
    "              px[ri][e],\n",
    "              Not(px[rj][e+rects[ri][0]])\n",
    "          )) #for any e: left(ri,rj) -> (xi <e v ! xj<e+wi)\n",
    "\n",
    "        s.add(Or(\n",
    "            Not(under[ri][rj]),\n",
    "            Not(py[rj][rects[ri][1]-1])\n",
    "        )) #under(ri,rj)-> yj > hi, lower bound for yj\n",
    "\n",
    "        for f in range(0,H-rects[ri][1]):\n",
    "          s.add(Or(\n",
    "              Not(under[ri][rj]),\n",
    "              py[ri][f],\n",
    "              Not(py[rj][f+rects[ri][1]])\n",
    "        )) #for any f, under(ri,rj) -> (yj <= f+hi ->yi <= f)\n",
    "  return s"
   ],
   "id": "a8504c21e7cef186",
   "outputs": [],
   "execution_count": 45
  },
  {
   "metadata": {
    "ExecuteTime": {
     "end_time": "2025-04-04T10:35:37.652664Z",
     "start_time": "2025-04-04T10:35:37.642431Z"
    }
   },
   "cell_type": "code",
   "source": [
    "def solve(rects,W,opt=False):\n",
    "  start = time.time()\n",
    "  solved= False\n",
    "  Hmin = int(totarea/W)\n",
    "  Hmax = int(2*max(max(rects, key=lambda p:p[0]*p[1])[1],totarea/W))+1\n",
    "  ul = Hmax\n",
    "  ll = Hmin\n",
    "  H = ll\n",
    "  while (ll < ul):\n",
    "    if (time.time() - start > 300):\n",
    "      print(\"out of time\")\n",
    "      return False, (300,300), (0,0,0)\n",
    "    #print(f\"Solving for H={H}\")\n",
    "    px = [[Bool(f\"px{r+1}_{x}\") for x in range(W)] for r in range(len(rects))]\n",
    "    py = [[Bool(f\"py{r+1}_{y}\") for y in range(H)] for r in range(len(rects))]\n",
    "    under = [[Bool(f\"r{ri+1}_under_r{rj+1}\") if ri != rj else 0 for rj in range(len(rects)) ] for ri in range(len(rects))]\n",
    "    left = [[Bool(f\"r{ri+1}_leftof_r{rj+1}\")  if rj!=ri else 0 for rj in range(len(rects))] for ri in range(len(rects))]\n",
    "    s = Solver()\n",
    "    s.set(\"timeout\", 300*1000)\n",
    "\n",
    "    s = base_model_order(s,rects,px,py,under,left,W,H)\n",
    "    if opt == True :\n",
    "      s = optimize(s,rects,px,py,under,left,W,H)\n",
    "\n",
    "    checking_from = time.time()\n",
    "    if s.check() == z3.sat :\n",
    "      ul = H\n",
    "    else:\n",
    "      ll = H+1\n",
    "    H =  int((ll+ul)/2)\n",
    "    checked_in = time.time() - checking_from\n",
    "  m = s.model()\n",
    "  end=time.time()\n",
    "  elapsed = end-start\n",
    "  return True, (elapsed,checked_in), (m,return_coods(m,len(rects),px,py),H)"
   ],
   "id": "4eeb3a77c5e310c6",
   "outputs": [],
   "execution_count": 46
  },
  {
   "metadata": {},
   "cell_type": "code",
   "source": [
    "instances = os.listdir('instances')\n",
    "for i, filename in enumerate(instances):\n",
    "  print(f\"instance:{filename}\")\n",
    "  with open('instances/'+filename, \"r\") as file1:\n",
    "    FileasList = file1.readlines()\n",
    "  W=int(FileasList[0])\n",
    "  N=int(FileasList[1])\n",
    "  rects=[]\n",
    "  results=[]\n",
    "  totarea=0\n",
    "  for n in range(2,2+N):\n",
    "    values = [int(s) for s in FileasList[n].split() if s.isdigit()]\n",
    "    w =values[0]\n",
    "    h = values[1]\n",
    "    totarea += h*w\n",
    "    rects.append([w,h])\n",
    "    results.append([w,h])\n",
    "  solved,(t_tot,t_solve),(m,c,H) = solve(rects,W, opt=False)\n",
    "  if solved:\n",
    "    for r in range(len(rects)):\n",
    "      results[r].append(c[r][0])\n",
    "      results[r].append(c[r][1])\n",
    "    fileout = f\"outputs/out-{i}.txt\"\n",
    "    with open(fileout, \"w\") as file2:\n",
    "      print(i)\n",
    "      file2.write(f\"{W}\\n\")\n",
    "      file2.write(f\"{N}\\n\")\n",
    "      for i in range(len(results)):\n",
    "       file2.write(f\"{results[i]}\\n\")\n",
    "    plot_result(results,W,H)"
   ],
   "id": "4d145808c88f1776",
   "outputs": [],
   "execution_count": null
  }
 ],
 "metadata": {
  "kernelspec": {
   "display_name": "Python 3",
   "language": "python",
   "name": "python3"
  },
  "language_info": {
   "codemirror_mode": {
    "name": "ipython",
    "version": 2
   },
   "file_extension": ".py",
   "mimetype": "text/x-python",
   "name": "python",
   "nbconvert_exporter": "python",
   "pygments_lexer": "ipython2",
   "version": "2.7.6"
  }
 },
 "nbformat": 4,
 "nbformat_minor": 5
}
