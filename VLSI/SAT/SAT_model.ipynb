{
 "cells": [
  {
   "cell_type": "code",
   "id": "initial_id",
   "metadata": {
    "collapsed": true,
    "ExecuteTime": {
     "end_time": "2025-03-30T16:46:46.806973Z",
     "start_time": "2025-03-30T16:46:46.426100Z"
    }
   },
   "source": [
    "from z3 import *\n",
    "import itertools\n",
    "\n",
    "import time\n",
    "import os\n",
    "\n",
    "from sat_utils import plot_result, return_coods, optimize\n",
    "\n",
    "os.makedirs('outputs', exist_ok=True)"
   ],
   "outputs": [],
   "execution_count": 1
  },
  {
   "metadata": {
    "ExecuteTime": {
     "end_time": "2025-03-30T16:46:47.723614Z",
     "start_time": "2025-03-30T16:46:47.720956Z"
    }
   },
   "cell_type": "code",
   "source": [
    "def at_least_one(bool_vars):\n",
    "    return Or(bool_vars)\n",
    "\n",
    "def at_most_one(bool_vars):\n",
    "    return [Not(And(pair[0], pair[1])) for pair in itertools.combinations(bool_vars, 2)]"
   ],
   "id": "35387f132cab8e2a",
   "outputs": [],
   "execution_count": 2
  },
  {
   "metadata": {
    "ExecuteTime": {
     "end_time": "2025-03-30T16:46:49.067892Z",
     "start_time": "2025-03-30T16:46:49.065075Z"
    }
   },
   "cell_type": "code",
   "source": [
    "def base_model_order(s,rects,px,py,under,left,W,H):\n",
    "  #non overlapping condition\n",
    "\n",
    "  #domain\n",
    "\n",
    "  #order encoding\n",
    "\n",
    "  #meaning for left and under\n",
    "\n",
    "  return s"
   ],
   "id": "a8504c21e7cef186",
   "outputs": [],
   "execution_count": 3
  },
  {
   "metadata": {},
   "cell_type": "code",
   "source": [
    "def solve(rects,W,opt=False):\n",
    "  pass"
   ],
   "id": "4eeb3a77c5e310c6",
   "outputs": [],
   "execution_count": null
  },
  {
   "metadata": {},
   "cell_type": "code",
   "source": [
    "# import instances\n",
    "pass\n",
    "# solve each instance\n",
    "pass\n",
    "# plot the results\n",
    "pass"
   ],
   "id": "4d145808c88f1776",
   "outputs": [],
   "execution_count": null
  }
 ],
 "metadata": {
  "kernelspec": {
   "display_name": "Python 3",
   "language": "python",
   "name": "python3"
  },
  "language_info": {
   "codemirror_mode": {
    "name": "ipython",
    "version": 2
   },
   "file_extension": ".py",
   "mimetype": "text/x-python",
   "name": "python",
   "nbconvert_exporter": "python",
   "pygments_lexer": "ipython2",
   "version": "2.7.6"
  }
 },
 "nbformat": 4,
 "nbformat_minor": 5
}
