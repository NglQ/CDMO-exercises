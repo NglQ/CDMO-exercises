{
  "cells": [
    {
      "cell_type": "markdown",
      "id": "841ea604",
      "metadata": {
        "id": "841ea604"
      },
      "source": [
        "# Z3 SAT Constraints Encodings"
      ]
    },
    {
      "cell_type": "markdown",
      "id": "340744b9",
      "metadata": {
        "id": "340744b9"
      },
      "source": [
        "In this notebook we are going to show several implementation in z3 of the cardinality constraints and show how they affect the efficiency of the solver."
      ]
    },
    {
      "cell_type": "code",
      "execution_count": null,
      "id": "fa63df2b",
      "metadata": {
        "id": "fa63df2b"
      },
      "outputs": [],
      "source": [
        "!pip3 install z3-solver"
      ]
    },
    {
      "cell_type": "code",
      "execution_count": null,
      "id": "7c342ee6",
      "metadata": {
        "id": "7c342ee6"
      },
      "outputs": [],
      "source": [
        "from itertools import combinations\n",
        "from z3 import *\n",
        "from utils import *\n",
        "import math"
      ]
    },
    {
      "cell_type": "markdown",
      "id": "4887a040",
      "metadata": {
        "id": "4887a040"
      },
      "source": [
        "## At most one encodings"
      ]
    },
    {
      "cell_type": "markdown",
      "id": "38d6ff2b",
      "metadata": {
        "id": "38d6ff2b"
      },
      "source": [
        "### Naive pairwise"
      ]
    },
    {
      "cell_type": "code",
      "execution_count": null,
      "id": "d4ae49b3",
      "metadata": {
        "id": "d4ae49b3"
      },
      "outputs": [],
      "source": [
        "def at_least_one_np(bool_vars):\n",
        "    pass\n",
        "\n",
        "def at_most_one_np(bool_vars, name = \"\"):\n",
        "    pass\n",
        "\n",
        "def exactly_one_np(bool_vars, name = \"\"):\n",
        "    pass"
      ]
    },
    {
      "cell_type": "markdown",
      "id": "b5789f37",
      "metadata": {
        "id": "b5789f37"
      },
      "source": [
        "### Sequential"
      ]
    },
    {
      "cell_type": "code",
      "execution_count": null,
      "id": "f117a5f2",
      "metadata": {
        "id": "f117a5f2"
      },
      "outputs": [],
      "source": [
        "def at_least_one_seq(bool_vars):\n",
        "    pass\n",
        "\n",
        "def at_most_one_seq(bool_vars, name):\n",
        "    pass\n",
        "\n",
        "def exactly_one_seq(bool_vars, name):\n",
        "    pass"
      ]
    },
    {
      "cell_type": "markdown",
      "id": "f8c13489",
      "metadata": {
        "id": "f8c13489"
      },
      "source": [
        "### Bitwise"
      ]
    },
    {
      "cell_type": "code",
      "execution_count": null,
      "id": "6e82c140",
      "metadata": {
        "id": "6e82c140"
      },
      "outputs": [],
      "source": [
        "def toBinary(num, length = None):\n",
        "    pass\n",
        "\n",
        "def at_least_one_bw(bool_vars):\n",
        "    pass\n",
        "\n",
        "def at_most_one_bw(bool_vars, name):\n",
        "    pass\n",
        "\n",
        "def exactly_one_bw(bool_vars, name):\n",
        "    pass"
      ]
    },
    {
      "cell_type": "markdown",
      "id": "681c7980",
      "metadata": {
        "id": "681c7980"
      },
      "source": [
        "### Heule"
      ]
    },
    {
      "cell_type": "code",
      "execution_count": null,
      "id": "fadfa643",
      "metadata": {
        "id": "fadfa643"
      },
      "outputs": [],
      "source": [
        "def at_least_one_he(bool_vars):\n",
        "    pass\n",
        "\n",
        "def at_most_one_he(bool_vars, name):\n",
        "    pass\n",
        "\n",
        "def exactly_one_he(bool_vars, name):\n",
        "    pass"
      ]
    },
    {
      "cell_type": "markdown",
      "id": "104213f2",
      "metadata": {
        "id": "104213f2"
      },
      "source": [
        "## Examples"
      ]
    },
    {
      "cell_type": "markdown",
      "id": "c8fbcfd0",
      "metadata": {
        "id": "c8fbcfd0"
      },
      "source": [
        "### N-queens"
      ]
    },
    {
      "cell_type": "code",
      "execution_count": null,
      "id": "e0b0db41",
      "metadata": {
        "id": "e0b0db41"
      },
      "outputs": [],
      "source": [
        "def nqueens_sat(n):\n",
        "    pass\n"
      ]
    },
    {
      "cell_type": "code",
      "execution_count": null,
      "id": "9c94af13",
      "metadata": {
        "id": "9c94af13"
      },
      "outputs": [],
      "source": [
        "%%time\n",
        "at_most_one = at_most_one_np\n",
        "at_least_one = at_least_one_np\n",
        "exactly_one = exactly_one_np\n",
        "display_nqueens(nqueens_sat(64))"
      ]
    },
    {
      "cell_type": "code",
      "execution_count": null,
      "id": "526a5d17",
      "metadata": {
        "id": "526a5d17"
      },
      "outputs": [],
      "source": [
        "%%time\n",
        "at_most_one = at_most_one_seq\n",
        "at_least_one = at_least_one_seq\n",
        "exactly_one = exactly_one_seq\n",
        "display_nqueens(nqueens_sat(64))"
      ]
    },
    {
      "cell_type": "code",
      "execution_count": null,
      "id": "b35d11d8",
      "metadata": {
        "id": "b35d11d8"
      },
      "outputs": [],
      "source": [
        "%%time\n",
        "at_most_one = at_most_one_bw\n",
        "at_least_one = at_least_one_bw\n",
        "exactly_one = exactly_one_bw\n",
        "display_nqueens(nqueens_sat(64))"
      ]
    },
    {
      "cell_type": "code",
      "execution_count": null,
      "id": "f6578bb6",
      "metadata": {
        "id": "f6578bb6"
      },
      "outputs": [],
      "source": [
        "%%time\n",
        "at_most_one = at_most_one_he\n",
        "at_least_one = at_least_one_he\n",
        "exactly_one = exactly_one_he\n",
        "display_nqueens(nqueens_sat(64))"
      ]
    },
    {
      "cell_type": "markdown",
      "id": "84146c86",
      "metadata": {
        "id": "84146c86"
      },
      "source": [
        "### Sudoku"
      ]
    },
    {
      "cell_type": "code",
      "execution_count": null,
      "id": "742a29bd",
      "metadata": {
        "id": "742a29bd"
      },
      "outputs": [],
      "source": [
        "# Sudoku instances, '0's correspond to empty cells\n",
        "\n",
        "instance1 = ((0, 0, 0, 0, 9, 4, 0, 3, 0),\n",
        "             (0, 0, 0, 5, 1, 0, 0, 0, 7),\n",
        "             (0, 8, 9, 0, 0, 0, 0, 4, 0),\n",
        "             (0, 0, 0, 0, 0, 0, 2, 0, 8),\n",
        "             (0, 6, 0, 2, 0, 1, 0, 5, 0),\n",
        "             (1, 0, 2, 0, 0, 0, 0, 0, 0),\n",
        "             (0, 7, 0, 0, 0, 0, 5, 2, 0),\n",
        "             (9, 0, 0, 0, 6, 5, 0, 0, 0),\n",
        "             (0, 4, 0, 9, 7, 0, 0, 0, 0))\n",
        "\n",
        "instance2 = ((0, 0, 0, 0, 9, 0, 1, 0, 0),\n",
        "             (2, 8, 0, 0, 0, 5, 0, 0, 0),\n",
        "             (7, 0, 0, 0, 0, 6, 4, 0, 0),\n",
        "             (8, 0, 5, 0, 0, 3, 0, 0, 6),\n",
        "             (0, 0, 1, 0, 0, 4, 0, 0, 0),\n",
        "             (0, 7, 0, 2, 0, 0, 0, 0, 0),\n",
        "             (3, 0, 0, 0, 0, 1, 0, 8, 0),\n",
        "             (0, 0, 0, 0, 0, 0, 0, 5, 0),\n",
        "             (0, 9, 0, 0, 0, 0, 0, 7, 0))\n",
        "\n",
        "instance3 = ((0, 7, 0, 0, 0, 0, 0, 4, 9),\n",
        "             (0, 0, 0, 4, 0, 0, 0, 0, 0),\n",
        "             (4, 0, 3, 5, 0, 7, 0, 0, 8),\n",
        "             (0, 0, 7, 2, 5, 0, 4, 0, 0),\n",
        "             (0, 0, 0, 0, 0, 0, 8, 0, 0),\n",
        "             (0, 0, 4, 0, 3, 0, 5, 9, 2),\n",
        "             (6, 1, 8, 0, 0, 0, 0, 0, 5),\n",
        "             (0, 9, 0, 1, 0, 0, 0, 3, 0),\n",
        "             (0, 0, 5, 0, 0, 0, 0, 0, 7))\n",
        "\n",
        "instance4 = ((0, 0, 0, 0, 0, 6, 0, 0, 0),\n",
        "             (0, 5, 9, 0, 0, 0, 0, 0, 8),\n",
        "             (2, 0, 0, 0, 0, 8, 0, 0, 0),\n",
        "             (0, 4, 5, 0, 0, 0, 0, 0, 0),\n",
        "             (0, 0, 3, 0, 0, 0, 0, 0, 0),\n",
        "             (0, 0, 6, 0, 0, 3, 0, 5, 4),\n",
        "             (0, 0, 0, 3, 2, 5, 0, 0, 6),\n",
        "             (0, 0, 0, 0, 0, 0, 0, 0, 0),\n",
        "             (0, 0, 0, 0, 0, 0, 0, 0, 0))"
      ]
    },
    {
      "cell_type": "code",
      "execution_count": null,
      "id": "3fd0acb0",
      "metadata": {
        "id": "3fd0acb0"
      },
      "outputs": [],
      "source": [
        "def sudoku_sat(instance):\n",
        "    pass\n"
      ]
    },
    {
      "cell_type": "code",
      "execution_count": null,
      "id": "486e7361",
      "metadata": {
        "id": "486e7361"
      },
      "outputs": [],
      "source": [
        "# Select the instance you want to solve\n",
        "instance = instance4\n",
        "display_sudoku(instance)"
      ]
    },
    {
      "cell_type": "code",
      "execution_count": null,
      "id": "f8930f73",
      "metadata": {
        "id": "f8930f73"
      },
      "outputs": [],
      "source": [
        "%%time\n",
        "at_most_one = at_most_one_np\n",
        "at_least_one = at_least_one_np\n",
        "exactly_one = exactly_one_np\n",
        "display_sudoku(sudoku_sat(instance))"
      ]
    },
    {
      "cell_type": "code",
      "execution_count": null,
      "id": "6e5a62d4",
      "metadata": {
        "id": "6e5a62d4"
      },
      "outputs": [],
      "source": [
        "%%time\n",
        "at_most_one = at_most_one_seq\n",
        "at_least_one = at_least_one_seq\n",
        "exactly_one = exactly_one_seq\n",
        "display_sudoku(sudoku_sat(instance))"
      ]
    },
    {
      "cell_type": "code",
      "execution_count": null,
      "id": "b5242e82",
      "metadata": {
        "id": "b5242e82"
      },
      "outputs": [],
      "source": [
        "%%time\n",
        "at_most_one = at_most_one_bw\n",
        "at_least_one = at_least_one_bw\n",
        "exactly_one = exactly_one_bw\n",
        "display_sudoku(sudoku_sat(instance))"
      ]
    },
    {
      "cell_type": "code",
      "execution_count": null,
      "id": "ef9b13c2",
      "metadata": {
        "id": "ef9b13c2"
      },
      "outputs": [],
      "source": [
        "%%time\n",
        "at_most_one = at_most_one_he\n",
        "at_least_one = at_least_one_he\n",
        "exactly_one = exactly_one_he\n",
        "display_sudoku(sudoku_sat(instance))"
      ]
    },
    {
      "cell_type": "markdown",
      "id": "0d6ef0a8",
      "metadata": {
        "id": "0d6ef0a8"
      },
      "source": [
        "## At most k encodings"
      ]
    },
    {
      "cell_type": "markdown",
      "id": "cafd35e8",
      "metadata": {
        "id": "cafd35e8"
      },
      "source": [
        "### Naive pairwise"
      ]
    },
    {
      "cell_type": "code",
      "execution_count": null,
      "id": "25ada565",
      "metadata": {
        "id": "25ada565"
      },
      "outputs": [],
      "source": [
        "def at_least_k_np(bool_vars, k, name = \"\"):\n",
        "    pass\n",
        "\n",
        "def at_most_k_np(bool_vars, k, name = \"\"):\n",
        "    pass\n",
        "\n",
        "def exactly_k_np(bool_vars, k, name = \"\"):\n",
        "    pass"
      ]
    },
    {
      "cell_type": "markdown",
      "id": "57c1b557",
      "metadata": {
        "id": "57c1b557"
      },
      "source": [
        "### Sequential"
      ]
    },
    {
      "cell_type": "code",
      "execution_count": null,
      "id": "36b41368",
      "metadata": {
        "id": "36b41368"
      },
      "outputs": [],
      "source": [
        "def at_least_k_seq(bool_vars, k, name):\n",
        "    pass\n",
        "\n",
        "def at_most_k_seq(bool_vars, k, name):\n",
        "    pass\n",
        "\n",
        "def exactly_k_seq(bool_vars, k, name):\n",
        "    pass"
      ]
    },
    {
      "cell_type": "markdown",
      "id": "10c9d363",
      "metadata": {
        "id": "10c9d363"
      },
      "source": [
        "## Examples"
      ]
    },
    {
      "cell_type": "markdown",
      "id": "458677a8",
      "metadata": {
        "id": "458677a8"
      },
      "source": [
        "### Nurse scheduling problem"
      ]
    },
    {
      "cell_type": "code",
      "execution_count": null,
      "id": "2f21db8a",
      "metadata": {
        "id": "2f21db8a"
      },
      "outputs": [],
      "source": [
        "instance1 = {\n",
        "    \"num_nurses\" : 4,\n",
        "    \"num_shifts\" : 3,\n",
        "    \"num_days\" : 3\n",
        "}\n",
        "\n",
        "instance2 = {\n",
        "    \"num_nurses\" : 4,\n",
        "    \"num_shifts\" : 3,\n",
        "    \"num_days\" : 4\n",
        "}\n",
        "\n",
        "instance3 = {\n",
        "    \"num_nurses\" : 10,\n",
        "    \"num_shifts\" : 3,\n",
        "    \"num_days\" : 30\n",
        "}"
      ]
    },
    {
      "cell_type": "code",
      "execution_count": null,
      "id": "b8251de1",
      "metadata": {
        "id": "b8251de1"
      },
      "outputs": [],
      "source": [
        "def nurse_scheduling_sat(num_nurses, num_shifts, num_days, timeout = None):\n",
        "    pass\n"
      ]
    },
    {
      "cell_type": "code",
      "execution_count": null,
      "id": "8d649357",
      "metadata": {
        "id": "8d649357"
      },
      "outputs": [],
      "source": [
        "exactly_one = exactly_one_seq\n",
        "at_most_one = at_most_one_seq"
      ]
    },
    {
      "cell_type": "markdown",
      "id": "1d79ceed",
      "metadata": {
        "id": "1d79ceed"
      },
      "source": [
        "### Instance 1"
      ]
    },
    {
      "cell_type": "code",
      "execution_count": null,
      "id": "67dd8b76",
      "metadata": {
        "id": "67dd8b76"
      },
      "outputs": [],
      "source": [
        "instance = instance1"
      ]
    },
    {
      "cell_type": "code",
      "execution_count": null,
      "id": "ca104948",
      "metadata": {
        "id": "ca104948"
      },
      "outputs": [],
      "source": [
        "%%time\n",
        "at_most_k = at_most_k_np\n",
        "at_least_k = at_least_k_np\n",
        "exactly_k = exactly_k_np\n",
        "display_nurses_shifts(nurse_scheduling_sat(instance[\"num_nurses\"], instance[\"num_shifts\"], instance[\"num_days\"]), instance[\"num_nurses\"], instance[\"num_shifts\"], instance[\"num_days\"])"
      ]
    },
    {
      "cell_type": "code",
      "execution_count": null,
      "id": "d804e823",
      "metadata": {
        "id": "d804e823"
      },
      "outputs": [],
      "source": [
        "%%time\n",
        "at_most_k = at_most_k_seq\n",
        "at_least_k = at_least_k_seq\n",
        "exactly_k = exactly_k_seq\n",
        "display_nurses_shifts(nurse_scheduling_sat(instance[\"num_nurses\"], instance[\"num_shifts\"], instance[\"num_days\"]), instance[\"num_nurses\"], instance[\"num_shifts\"], instance[\"num_days\"])"
      ]
    },
    {
      "cell_type": "markdown",
      "id": "3fa59a7d",
      "metadata": {
        "id": "3fa59a7d"
      },
      "source": [
        "### Instance 2"
      ]
    },
    {
      "cell_type": "code",
      "execution_count": null,
      "id": "1fafbad4",
      "metadata": {
        "id": "1fafbad4"
      },
      "outputs": [],
      "source": [
        "instance = instance2"
      ]
    },
    {
      "cell_type": "code",
      "execution_count": null,
      "id": "8c3a435a",
      "metadata": {
        "id": "8c3a435a"
      },
      "outputs": [],
      "source": [
        "%%time\n",
        "at_most_k = at_most_k_np\n",
        "at_least_k = at_least_k_np\n",
        "exactly_k = exactly_k_np\n",
        "display_nurses_shifts(nurse_scheduling_sat(instance[\"num_nurses\"], instance[\"num_shifts\"], instance[\"num_days\"]), instance[\"num_nurses\"], instance[\"num_shifts\"], instance[\"num_days\"])"
      ]
    },
    {
      "cell_type": "code",
      "execution_count": null,
      "id": "f812d7d5",
      "metadata": {
        "id": "f812d7d5"
      },
      "outputs": [],
      "source": [
        "%%time\n",
        "at_most_k = at_most_k_seq\n",
        "at_least_k = at_least_k_seq\n",
        "exactly_k = exactly_k_seq\n",
        "display_nurses_shifts(nurse_scheduling_sat(instance[\"num_nurses\"], instance[\"num_shifts\"], instance[\"num_days\"]), instance[\"num_nurses\"], instance[\"num_shifts\"], instance[\"num_days\"])"
      ]
    },
    {
      "cell_type": "markdown",
      "id": "48d6268e",
      "metadata": {
        "id": "48d6268e"
      },
      "source": [
        "### Instance 3"
      ]
    },
    {
      "cell_type": "code",
      "execution_count": null,
      "id": "1fd28820",
      "metadata": {
        "id": "1fd28820"
      },
      "outputs": [],
      "source": [
        "instance = instance3"
      ]
    },
    {
      "cell_type": "code",
      "execution_count": null,
      "id": "c5b93ba9",
      "metadata": {
        "id": "c5b93ba9"
      },
      "outputs": [],
      "source": [
        "%%time\n",
        "at_most_k = at_most_k_np\n",
        "at_least_k = at_least_k_np\n",
        "exactly_k = exactly_k_np\n",
        "display_nurses_shifts(nurse_scheduling_sat(instance[\"num_nurses\"], instance[\"num_shifts\"], instance[\"num_days\"], timeout = 1000*60*3), instance[\"num_nurses\"], instance[\"num_shifts\"], instance[\"num_days\"])"
      ]
    },
    {
      "cell_type": "code",
      "execution_count": null,
      "id": "5d478a54",
      "metadata": {
        "id": "5d478a54"
      },
      "outputs": [],
      "source": [
        "%%time\n",
        "at_most_k = at_most_k_seq\n",
        "at_least_k = at_least_k_seq\n",
        "exactly_k = exactly_k_seq\n",
        "display_nurses_shifts(nurse_scheduling_sat(instance[\"num_nurses\"], instance[\"num_shifts\"], instance[\"num_days\"], timeout = 1000*60*3), instance[\"num_nurses\"], instance[\"num_shifts\"], instance[\"num_days\"])"
      ]
    }
  ],
  "metadata": {
    "kernelspec": {
      "display_name": "Python 3",
      "language": "python",
      "name": "python3"
    },
    "language_info": {
      "codemirror_mode": {
        "name": "ipython",
        "version": 3
      },
      "file_extension": ".py",
      "mimetype": "text/x-python",
      "name": "python",
      "nbconvert_exporter": "python",
      "pygments_lexer": "ipython3",
      "version": "3.10.5"
    },
    "colab": {
      "provenance": []
    }
  },
  "nbformat": 4,
  "nbformat_minor": 5
}
